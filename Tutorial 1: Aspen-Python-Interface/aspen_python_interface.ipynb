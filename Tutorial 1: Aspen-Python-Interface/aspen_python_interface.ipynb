{
 "cells": [
  {
   "cell_type": "markdown",
   "id": "80e88e67-ba14-483b-9270-f0e2b9290983",
   "metadata": {},
   "source": [
    "<span style=\"font-size:20px; font-weight:bold;\">Tutorial 1: Aspen-Python-Interface </span>"
   ]
  },
  {
   "cell_type": "markdown",
   "id": "d3fb29bb-5d61-4423-ba47-d7cee7037ded",
   "metadata": {},
   "source": [
    "To enable the understanding of the subsequent discussion of the Aspen-Python interface, some comments regarding the solvent-based carbon capture process using monoethanolamine (MEA) are first be provided:\n",
    "* For a general description of the process, please refer to the publication associated with this repository.\n",
    "* This process was specifically selected to illustrate the challenges involved in full automation of the developed framework.\n",
    "* Aspen Plus file used to illustrate the framework: \"Post_combustion_solvent_based_MEA.bkp\".\n",
    "* When interacting with Aspen Plus, the names of streams and process units has to be known. Thus, to facilitate reading the code, the process flowsheet implemented in the provided Aspen Plus file is shown below. \n",
    "* As the solvent cycle complicates reaching convergence in Aspen Plus, the loop is not closed. Instead, the stream of the lean solvent stream entering the absorber in the top is \"cut\" into two streams, LEANMEA and LEANMEAC. As a consequence, when conducting simulations, it has to be ensured that the flows of these two streams match each other.\n",
    "* To ensure comparability, in this example the CO<sub>2</sub> removal efficiency is kept constant at 95 % by a design specification in Aspen Plus, related to streams FLUEGAS and CO2-OUT. The design specification is met by varying the required reboiler duty for the stripper."
   ]
  },
  {
   "cell_type": "markdown",
   "id": "85104b82-2051-4c60-8b2c-a4c119f3f518",
   "metadata": {},
   "source": [
    "![Alt-Text](Figures/Aspen_Plus_Flowsheet.png)"
   ]
  },
  {
   "cell_type": "markdown",
   "id": "67681684-f2f6-4884-93ec-f81d25d437da",
   "metadata": {},
   "source": [
    "To showcase the most important functions of the Aspen-Python-Interface based on Zihao Wang (https://github.com/zwang1995/Aspen-Plus-Automation), a converged Aspen Plus file \"Post_combustion_solvent_based_MEA.bkp\" is opened and the initial performance of the process is returned. Then, the CO<sub>2</sub> concentration of the FLUEGAS stream is changed, the simulation is executed and the change in performance is reviewed.\n",
    "\n",
    "First, we import the library aspen_utils (developed by Mr. Wang) to facilitate the interaction of Python with Aspen Plus. Ensure that all the packages such as os, time and win32com.client required for the library to work are installed in your Python distribution. Then, it is recommended to get familiar with the structure of the library. It mainly consists of one class called Aspen_Plus_Interface(), in which several functions to interact with Aspen Plus are defined. In the actual code below, we will first generate an instance of this class and then use some of its functions for our purpose. "
   ]
  },
  {
   "cell_type": "code",
   "execution_count": 13,
   "id": "36ee96af-ed7c-474b-9333-24101f977a1c",
   "metadata": {},
   "outputs": [
    {
     "name": "stdout",
     "output_type": "stream",
     "text": [
      "Aspen Plus 40.0 OLE Services\n",
      "\n",
      "\n"
     ]
    }
   ],
   "source": [
    "from aspen_utils import *\n",
    "\n",
    "# Create instance of the Aspen_Plus_Interface() class\n",
    "Aspen_Plus = Aspen_Plus_Interface() \n",
    "\n",
    "# Use load_bkp function to open your Aspen Plus file.\n",
    "Aspen_Plus.load_bkp(r\"Aspen_File/Post_combustion_solvent_based_MEA.bkp\", 0, 1)\n",
    "        #Load a process via bkp file\n",
    "        #:param bkp_file: location of the Aspen Plus file\n",
    "        #:param visible_state: Aspen Plus user interface, 0 is invisible and 1 is visible\n",
    "        #:param dialog_state: Aspen Plus dialogs, 0 is not to suppress and 1 is to suppress\n",
    "print(\"\\n\")"
   ]
  },
  {
   "cell_type": "markdown",
   "id": "6823409d-364a-4f57-bdac-6a37bc932dc0",
   "metadata": {},
   "source": [
    "After running the code above you should get a notification with something like \"Aspen Plus 40.0 OLE Services\". It is recommended to work with the backup file of Aspen Plus (.bkp), since it has been observed that the interface is less prone to errors when establishing a connection. \n",
    "\n",
    "Furthermore, as the solvent-based process under consideration exhibit a high degree of complexity (due to the electrolyte chemistry involved), the first simulation in the Aspen Plus file \"Post_combustion_solvent_based_MEA.bkp\" was carried out manually in advance to establish a stable starting point. Thus, initial results should be available and we can take a look at it.  \n",
    "\n",
    "To extract a value from Aspen Plus and assign it to a variable in Python, we first need to figure out, how Aspen Plus declares this variable in the simulation. You can do that within Aspen Plus by the <span style=\"font-weight:bold;\">Variable Explorer: </span>"
   ]
  },
  {
   "cell_type": "markdown",
   "id": "135f6865-517c-45fa-b3fe-0b6677032cd3",
   "metadata": {},
   "source": [
    "![Alt-Text](Figures/Aspen_Plus_Variable_Explorer.png)"
   ]
  },
  {
   "cell_type": "markdown",
   "id": "e0f64c93-6677-402f-9e97-c684d5546e38",
   "metadata": {},
   "source": [
    "For example, if we want to extract the value of the reboiler duty required for the stripper, we find the file path in the Variable Explorer like this: "
   ]
  },
  {
   "cell_type": "markdown",
   "id": "a29eec7d-c106-4519-be65-02bf46706863",
   "metadata": {},
   "source": [
    "![Alt-Text](Figures/Aspen_Plus_Variable_Explorer2.png)"
   ]
  },
  {
   "cell_type": "markdown",
   "id": "a8b529b8-2c31-4aec-a544-1b7c53438c2c",
   "metadata": {},
   "source": [
    "With this approach, most of the process parameters can be extracted from Aspen Plus with the command:\n",
    "\n",
    "    Aspen_Plus.Application.Tree.FindNode(r\"Filepath_Variable_Explorer\").Value \n",
    "\n",
    "To assess the performance of the initial process configuration, the reboiler duty per ton CO<sub>2</sub> captured is used. Typically, this value is in a range of 3.2 - 4.0 MJ/ton CO<sub>2</sub> with Monoethanolamine (MEA) as a solvent. Let's test it:"
   ]
  },
  {
   "cell_type": "code",
   "execution_count": 14,
   "id": "470d7e36-e69e-4df4-bcb3-496e808c18fb",
   "metadata": {},
   "outputs": [
    {
     "name": "stdout",
     "output_type": "stream",
     "text": [
      "1. Return performance of initial process parameter configuration\n",
      "------------------------------------------------------------------------------------------------------------\n",
      "\n",
      "Required reboiler duty in Stripper:  912.1  kW\n",
      "Captured amount of CO₂:  864.0  kg/h\n",
      "Performance measured by reboiler duty per ton CO₂ captured:  3800.5  MJ/ ton CO₂\n",
      "\n"
     ]
    }
   ],
   "source": [
    "###################################################################################################################\n",
    "# 1. Return performance of initial process parameter configuration\n",
    "###################################################################################################################\n",
    "\n",
    "print(\"1. Return performance of initial process parameter configuration\")\n",
    "print(\"------------------------------------------------------------------------------------------------------------\\n\")\n",
    "\n",
    "# Get reboiler duty required for the stripper in kW\n",
    "STRIPPER_ReboilerDuty = Aspen_Plus.Application.Tree.FindNode(r\"\\Data\\Blocks\\REBOILER\\Output\\QCALC\").Value * 1e-03\n",
    "print(\"Required reboiler duty in Stripper: \", round(STRIPPER_ReboilerDuty,1), \" kW\")\n",
    "\n",
    "# Get the amount of CO2 captured by the process in kg/h (see Aspen Plus File - stream CO2OUT)\n",
    "CO2OUT_CO2CaptureRate = Aspen_Plus.Application.Tree.FindNode(r\"\\Data\\Streams\\CO2-OUT\\Output\\STR_MAIN\\MASSFLOW\\MIXED\\CO2\").Value *3600\n",
    "print(\"Captured amount of CO\\u2082: \", round(CO2OUT_CO2CaptureRate,1), \" kg/h\")\n",
    "\n",
    "# Calculate performance of initial process configuration\n",
    "STRIPPER_SpecReboilerDuty = round((STRIPPER_ReboilerDuty / (CO2OUT_CO2CaptureRate / 3600)), 5)\n",
    "print(\"Performance measured by reboiler duty per ton CO\\u2082 captured: \", round(STRIPPER_SpecReboilerDuty,1), \" MJ/ ton CO\\u2082\\n\")"
   ]
  },
  {
   "cell_type": "markdown",
   "id": "14af8912-c58e-48c0-8cfc-a7e34a0f8643",
   "metadata": {},
   "source": [
    "With a specific reboiler duty of approximately 3800 MJ per ton of CO<sub>2</sub>, we are on the right track, although there is still room for improvement. Lets see how an increase of the CO<sub>2</sub> content in the flue gas entering the absorber impacts this performance metric. \n",
    "\n",
    "First, we extract the initial CO<sub>2</sub> and N<sub>2</sub> content from Aspen Plus with the same approach as above. Similarly, we can increase the CO<sub>2</sub> concentration by 0.1 vol%. If we increase the percentage of one component (CO<sub>2</sub>), we must reduce the percentage of another component (N<sub>2</sub>) accordingly. \n",
    "\n",
    "To ensure comparability between the initial result and the increased CO<sub>2</sub> concentration, we need to keep the CO<sub>2</sub> removal efficieny constant. In Aspen Plus, this can be achieved by a so-called *design specification*, in which the target value for the CO<sub>2</sub> flow in the stream leaving the stripper at the top (CO2-OUT; enriched CO<sub>2</sub> stream; subsequently send to storage/ utilization) is specified by 95 % of the CO<sub>2</sub> flow in the FLUEGAS stream in the code. For more details to the design specification, please take a look at the provided Aspen Plus file."
   ]
  },
  {
   "cell_type": "code",
   "execution_count": 15,
   "id": "ff95d900-d755-4dfe-aa0e-f6066335f817",
   "metadata": {},
   "outputs": [
    {
     "name": "stdout",
     "output_type": "stream",
     "text": [
      "2. Modify process parameters\n",
      "------------------------------------------------------------------------------------------------------------\n",
      "\n",
      "Initial CO₂ concentration in FLUEGAS stream:  10.1  vol%\n",
      "Initial N₂ concentration in FLUEGAS stream:  74.9  vol%\n",
      "\n",
      "New CO₂ concentration in FLUEGAS stream:  10.2  vol%\n",
      "New N₂ concentration in FLUEGAS stream:  74.8  vol%\n",
      "\n"
     ]
    }
   ],
   "source": [
    "###################################################################################################################\n",
    "# 2. Modify process parameters\n",
    "###################################################################################################################\n",
    "\n",
    "print(\"2. Modify process parameters\")\n",
    "print(\"------------------------------------------------------------------------------------------------------------\\n\")\n",
    "\n",
    "# Get initial CO2 and N2 concentration in FLUEGAS stream\n",
    "Fluegas_CO2conc = Aspen_Plus.Application.Tree.FindNode(r\"\\Data\\Streams\\FLUEGAS\\Input\\FLOW\\MIXED\\CO2\").Value * 100\n",
    "print(\"Initial CO\\u2082 concentration in FLUEGAS stream: \", round(Fluegas_CO2conc,1), \" vol%\")\n",
    "\n",
    "Fluegas_N2conc = Aspen_Plus.Application.Tree.FindNode(r\"\\Data\\Streams\\FLUEGAS\\Input\\FLOW\\MIXED\\N2\").Value * 100\n",
    "print(\"Initial N\\u2082 concentration in FLUEGAS stream: \", round(Fluegas_N2conc,1), \" vol%\\n\")\n",
    "\n",
    "# Increase CO2 concentration in the FLUEGAS stream by 0.1 vol% and adjust N2 concentration accordingly \n",
    "Aspen_Plus.Application.Tree.FindNode(r\"\\Data\\Streams\\FLUEGAS\\Input\\FLOW\\MIXED\\CO2\").Value = (Fluegas_CO2conc + 0.1)/100 \n",
    "Aspen_Plus.Application.Tree.FindNode(r\"\\Data\\Streams\\FLUEGAS\\Input\\FLOW\\MIXED\\N2\").Value = (Fluegas_N2conc - 0.1)/100\n",
    "\n",
    "# Check updated CO2 and N2 concentration in FLUEGAS stream\n",
    "Fluegas_CO2conc = Aspen_Plus.Application.Tree.FindNode(r\"\\Data\\Streams\\FLUEGAS\\Input\\FLOW\\MIXED\\CO2\").Value * 100\n",
    "print(\"New CO\\u2082 concentration in FLUEGAS stream: \", round(Fluegas_CO2conc,1), \" vol%\")\n",
    "\n",
    "Fluegas_N2conc = Aspen_Plus.Application.Tree.FindNode(r\"\\Data\\Streams\\FLUEGAS\\Input\\FLOW\\MIXED\\N2\").Value * 100\n",
    "print(\"New N\\u2082 concentration in FLUEGAS stream: \", round(Fluegas_N2conc,1), \" vol%\\n\")\n",
    "\n",
    "# Since the CO2 concentration in the FLUEGAS stream is changed, the design specification in Aspen Plus for keeping the \n",
    "# CO2 removal efficiency constant also needs to be adjusted:\n",
    "\n",
    "# 1. Get the new value of CO2, which needs to be captured (95 % CO2 removal efficiency)\n",
    "DS_TargetValue = Aspen_Plus.Application.Tree.FindNode(r\"\\Data\\Streams\\FLUEGAS\\Output\\MASSFLOW\\MIXED\\CO2\").Value * 0.95 * 3600\n",
    "\n",
    "# 2. Adjust the Design Specification in Aspen Plus accordingly\n",
    "Aspen_Plus.Application.Tree.FindNode(r\"\\Data\\Flowsheeting Options\\Design-Spec\\DS-1\\Input\\EXPR2\").Value = DS_TargetValue\n",
    "\n"
   ]
  },
  {
   "cell_type": "markdown",
   "id": "97b40ca4-d092-4f94-a04e-828b4de4c391",
   "metadata": {},
   "source": [
    "After checking the adjustment of the CO<sub>2</sub> and N<sub>2</sub> concentrations, we are ready to run the simulation with the interface. To provide insights into the simulation process, a rudimentary control structure is shown in the following as an example: Aspen Plus has stored various codes for the progress of a simulation (success, warning, error). These codes can also be extracted using the interface and displayed on the console using if statements."
   ]
  },
  {
   "cell_type": "code",
   "execution_count": 16,
   "id": "c7c96fed-54ff-444c-904b-8d5ec01195f4",
   "metadata": {},
   "outputs": [
    {
     "name": "stdout",
     "output_type": "stream",
     "text": [
      "3. Simulation run and trouble monitoring\n",
      "------------------------------------------------------------------------------------------------------------\n",
      "\n",
      "Simulation running. It can take a minute. Please wait...\n",
      "No errors encountered. Ready to extract simulation results.\n",
      "\n",
      "---- Results for adjusted CO2 concentration: ----\n",
      "Required reboiler duty in Stripper:  909.7  kW\n",
      "Captured amount of CO₂:  864.3  kg/h\n",
      "Performance measured by reboiler duty per ton CO₂ captured:  3788.7  MJ/ ton CO₂\n",
      "\n"
     ]
    }
   ],
   "source": [
    "###################################################################################################################\n",
    "# 3. Simulation run and trouble monitoring\n",
    "###################################################################################################################\n",
    "\n",
    "print(\"3. Simulation run and trouble monitoring\")\n",
    "print(\"------------------------------------------------------------------------------------------------------------\\n\")\n",
    "print(\"Simulation running. It can take a minute. Please wait...\")\n",
    "\n",
    "# Run the process simulation\n",
    "Aspen_Plus.run_simulation()\n",
    "Aspen_Plus.check_run_completion()\n",
    "\n",
    "# Trouble monitoring\n",
    "# Aspen gives these numbers as an output regarding the success of a simulation run. (They are based on hexadecimal codes).\n",
    "sim_success = 9345  # Hexadecimal: 0x00002481\n",
    "sim_warning = 9348  # Hexadecimal: 0x00002484\n",
    "sim_error = 9376    # Hexadecimal: 0x000024A0\n",
    "\n",
    "run_status = Aspen_Plus.Application.Tree.FindNode(r\"\\Data\").AttributeValue(12)\n",
    "\n",
    "if run_status == sim_success:\n",
    "    print(\"No errors encountered. Ready to extract simulation results.\\n\")\n",
    "\n",
    "    print(\"---- Results for adjusted CO2 concentration: ----\")\n",
    "    \n",
    "    # Extracting results as described in 1.\n",
    "    New_STRIPPER_ReboilerDuty = Aspen_Plus.Application.Tree.FindNode(r\"\\Data\\Blocks\\REBOILER\\Output\\QCALC\").Value * 1e-03\n",
    "    print(\"Required reboiler duty in Stripper: \", round(New_STRIPPER_ReboilerDuty,1), \" kW\")\n",
    "    \n",
    "    New_CO2OUT_CO2CaptureRate = Aspen_Plus.Application.Tree.FindNode(r\"\\Data\\Streams\\CO2-OUT\\Output\\STR_MAIN\\MASSFLOW\\MIXED\\CO2\").Value *3600\n",
    "    print(\"Captured amount of CO\\u2082: \", round(New_CO2OUT_CO2CaptureRate,1), \" kg/h\")\n",
    "    \n",
    "    New_STRIPPER_SpecReboilerDuty = round((New_STRIPPER_ReboilerDuty / (New_CO2OUT_CO2CaptureRate / 3600)), 5)\n",
    "    print(\"Performance measured by reboiler duty per ton CO\\u2082 captured: \", round(New_STRIPPER_SpecReboilerDuty,1), \" MJ/ ton CO\\u2082\\n\")\n",
    "\n",
    "elif run_status == sim_warning:\n",
    "    print(\"Warnings encountered.\")\n",
    "else:\n",
    "    print(\"Errors encountered.\")\n",
    "\n",
    "# Close the Aspen Plus file \n",
    "Aspen_Plus.close_bkp()"
   ]
  },
  {
   "cell_type": "markdown",
   "id": "2bb4a977-6f8d-4b1c-bc6f-bbe87abda0b4",
   "metadata": {},
   "source": [
    "Examining the results indicates that the required specific reboiler duty is reduced from 3800 MJ/ ton CO<sub>2</sub> to approximately 3789 MJ/ ton CO<sub>2</sub> by a slight increase of the CO<sub>2</sub> content in the flue gas. This result emphasizes the importance of conducting comprehensive sensitivity analyses to find optimal operating conditions.\n",
    "\n",
    "However, please note that when investigating larger changes to process parameters, the mass balance of the LEANMEA and LEANMEAC streams must be matched to obtain results within a defined tolerance. Since in the final code, the CO<sub>2</sub> content in the flue gas is varied over a wider range, this balancing is implemented with the same underlying methodology discussed here.  \n",
    "\n",
    "Finally, it should be noted that further control structures in the code are conceivable should the simulation have difficulties converging. For example, it has proven useful to first run the simulation with the Wegstein solver and, if errors occur, switch to the Broyden solve."
   ]
  },
 ],
 "metadata": {
  "kernelspec": {
   "display_name": "Python 3 (ipykernel)",
   "language": "python",
   "name": "python3"
  },
  "language_info": {
   "codemirror_mode": {
    "name": "ipython",
    "version": 3
   },
   "file_extension": ".py",
   "mimetype": "text/x-python",
   "name": "python",
   "nbconvert_exporter": "python",
   "pygments_lexer": "ipython3",
   "version": "3.12.7"
  }
 },
 "nbformat": 4,
 "nbformat_minor": 5
}
